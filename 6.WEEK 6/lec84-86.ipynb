{
 "cells": [
  {
   "cell_type": "markdown",
   "metadata": {},
   "source": [
    "## Lec84: Link Analysis - Implementing Page Rank using Random Walk Method - 1\n",
    "\n",
    "\n",
    "* Teleportation - Jumping to a node uniformly at random when there are no out edges\n",
    "\n",
    "Steps :\n",
    "--------\n",
    "* Create/take a directed graph\n",
    "* Perform a random walk (imp)\n",
    "* Get sorted nodes as per points accumulated during random walk\n",
    "* Compare the ranks thus obtained with the ranks obtainrd from the inbuilt Page rank method"
   ]
  },
  {
   "cell_type": "markdown",
   "metadata": {},
   "source": [
    "## Lec85: Link Analysis - Implementing Page Rank using Random Walk Method - 2\n"
   ]
  },
  {
   "cell_type": "code",
   "execution_count": 2,
   "metadata": {
    "collapsed": false
   },
   "outputs": [
    {
     "name": "stdout",
     "output_type": "stream",
     "text": [
      "nodes_sorted_by_points :  [9 8 4 1 6 3 2 5 0 7]\n",
      "Page Rank by Inbuilt Method\n",
      "9 8 4 1 6 3 2 5 0 7\n"
     ]
    }
   ],
   "source": [
    "import networkx as nx\n",
    "import random\n",
    "import numpy as np\n",
    "\n",
    "def add_edges(G, p):\n",
    "    #Randomly adding edges\n",
    "    for i in G.nodes():\n",
    "        for j in G.nodes():\n",
    "            if i != j:\n",
    "                r = random.random()\n",
    "                if r <= p:\n",
    "                    G.add_edge(i, j)\n",
    "                else:\n",
    "                    continue                \n",
    "    return G\n",
    "              \n",
    "def get_nodes_sorted_by_RW(points):\n",
    "    points_array = np.array(points)\n",
    "    #returns the indices of the list sorted\n",
    "    nodes_sorted_by_RW = np.argsort(-points_array)# - for desc order\n",
    "    return nodes_sorted_by_RW\n",
    "\n",
    "def random_walk(G):\n",
    "    nodes = G.nodes()\n",
    "    RW_points = [0 for i in range(G.number_of_nodes())]\n",
    "    r = random.choice(nodes)\n",
    "    RW_points[r] += 1\n",
    "    out = G.out_edges(r)\n",
    "    \n",
    "    cnt = 0\n",
    "    while cnt != 10000:\n",
    "        #Teleportation\n",
    "        if len(out) == 0:\n",
    "            focus = random.choice(nodes)\n",
    "        else:\n",
    "            r1 = random.choice(out)\n",
    "            focus = r1[1]\n",
    "        RW_points[focus] += 1\n",
    "        out = G.out_edges(focus)\n",
    "        cnt += 1\n",
    "        \n",
    "    return RW_points\n",
    "        \n",
    "        \n",
    "def main():\n",
    "    # 1. Create/take a directed graph with 'n' nodes.\n",
    "    G = nx.DiGraph()#empty graph\n",
    "    G.add_nodes_from([i for i in range(10)])\n",
    "    G = add_edges(G, 0.3)\n",
    "\n",
    "    # 2. Perform a random walk\n",
    "    RW_points = random_walk(G)\n",
    "    \n",
    "    # 3. Get nodes' raking as per the points accumulated\n",
    "    nodes_sorted_by_RW = get_nodes_sorted_by_RW(RW_points)\n",
    "    print 'nodes_sorted_by_points : ', nodes_sorted_by_RW\n",
    "    \n",
    "    # 4. Compare the ranks thus obtained with the ranks obtainrd from the inbuilt Page rank method\n",
    "    pr = nx.pagerank(G)# Return a dictionary\n",
    "    pr_sorted = sorted(pr.items(), key = lambda x:x[1], reverse = True)\n",
    "    print 'Page Rank by Inbuilt Method'\n",
    "    for i in pr_sorted:\n",
    "        print i[0],\n",
    "        \n",
    "main()"
   ]
  },
  {
   "cell_type": "markdown",
   "metadata": {},
   "source": [
    "## Lec86: Link Analysis - Degree Rank and Page Rank\n",
    "\n"
   ]
  },
  {
   "cell_type": "code",
   "execution_count": 4,
   "metadata": {
    "collapsed": false
   },
   "outputs": [
    {
     "name": "stdout",
     "output_type": "stream",
     "text": [
      "27770\n"
     ]
    },
    {
     "data": {
      "image/png": "[encoded data removed]",
      "text/plain": [
       "<matplotlib.figure.Figure at 0x7fd123d8ba90>"
      ]
     },
     "metadata": {},
     "output_type": "display_data"
    }
   ],
   "source": [
    "import networkx as nx\n",
    "import matplotlib.pyplot as plt\n",
    "\n",
    "def main():\n",
    "    G = nx.read_edgelist('Cit-HepTh.txt', create_using = nx.DiGraph())\n",
    "    print G.number_of_nodes()\n",
    "    \n",
    "    deg = G.in_degree() #returns the Dictionay of nodes and degrees\n",
    "    pr = nx.pagerank(G) #returns the Dict\n",
    "    \n",
    "    pr_values = []\n",
    "    \n",
    "    # As dictionary doesn't retain the inserion order \n",
    "    for i in deg.keys():\n",
    "        pr_values.append(pr[i])\n",
    "        \n",
    "    plt.plot(deg.values(), pr_values, 'ro', markersize = 3)\n",
    "    plt.xlabel('Degrees of nodes')\n",
    "    plt.ylabel('Page Rank of nodes')\n",
    "    plt.show()\n",
    "    \n",
    "main()"
   ]
  },
  {
   "cell_type": "markdown",
   "metadata": {},
   "source": [
    "Inference\n",
    "---\n",
    "* Indegree and page rank of the nodes are not correlated\n",
    "* Reason : Page rank depends not only on the number of edges pointed to it but also the importance of the nodes that are pointing to it\n",
    "* Hence a node with less indegree of the important nodes pointing to it can get the highest page rank(means rank 1, 2,.. not  100, 102)\n"
   ]
  }
 ],
 "metadata": {
  "kernelspec": {
   "display_name": "Python 2",
   "language": "python",
   "name": "python2"
  },
  "language_info": {
   "codemirror_mode": {
    "name": "ipython",
    "version": 2
   },
   "file_extension": ".py",
   "mimetype": "text/x-python",
   "name": "python",
   "nbconvert_exporter": "python",
   "pygments_lexer": "ipython2",
   "version": "2.7.13"
  }
 },
 "nbformat": 4,
 "nbformat_minor": 2
}
