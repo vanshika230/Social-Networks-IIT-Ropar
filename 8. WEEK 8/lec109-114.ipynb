{
 "cells": [
  {
   "cell_type": "markdown",
   "metadata": {},
   "source": [
    "# Lec110 : Link Analysis (Continued) - Convergence in Repeated Matrix Multiplication (Pre-Requisite 1 )\n"
   ]
  },
  {
   "cell_type": "code",
   "execution_count": 4,
   "metadata": {
    "collapsed": false
   },
   "outputs": [
    {
     "name": "stdout",
     "output_type": "stream",
     "text": [
      "[[3]\n",
      " [7]]\n"
     ]
    }
   ],
   "source": [
    "import numpy as np\n",
    "\n",
    "A = np.mat('1 2; 3 4')\n",
    "v = np.mat('1; 1')\n",
    "\n",
    "print A*v"
   ]
  },
  {
   "cell_type": "code",
   "execution_count": 5,
   "metadata": {
    "collapsed": false
   },
   "outputs": [
    {
     "name": "stdout",
     "output_type": "stream",
     "text": [
      "[[1]\n",
      " [1]]\n",
      "####################\n",
      "[[ 0.3939193 ]\n",
      " [ 0.91914503]]\n",
      "********************\n",
      "[[ 0.41750017]\n",
      " [ 0.90867684]]\n",
      "********************\n",
      "[[ 0.41586776]\n",
      " [ 0.9094251 ]]\n",
      "********************\n",
      "[[ 0.41598089]\n",
      " [ 0.90937336]]\n",
      "********************\n",
      "[[ 0.41597305]\n",
      " [ 0.90937694]]\n",
      "********************\n",
      "[[ 0.41597359]\n",
      " [ 0.90937669]]\n",
      "********************\n",
      "[[ 0.41597356]\n",
      " [ 0.90937671]]\n",
      "********************\n",
      "[[ 0.41597356]\n",
      " [ 0.90937671]]\n",
      "********************\n",
      "[[ 0.41597356]\n",
      " [ 0.90937671]]\n",
      "********************\n",
      "[[ 0.41597356]\n",
      " [ 0.90937671]]\n",
      "********************\n"
     ]
    }
   ],
   "source": [
    "import numpy as np\n",
    "\n",
    "A = np.mat('1 2; 3 4')\n",
    "v = np.mat('1; 1')\n",
    "print v\n",
    "print \"#\"*20\n",
    "for i in range(10):\n",
    "    z = A*v\n",
    "    z = z/np.linalg.norm(z)#denominator sqrt(a^2+ b^2)\n",
    "    v = z\n",
    "    print z\n",
    "    print \"*\"*20\n"
   ]
  },
  {
   "cell_type": "code",
   "execution_count": 6,
   "metadata": {
    "collapsed": false
   },
   "outputs": [
    {
     "name": "stdout",
     "output_type": "stream",
     "text": [
      "[[ 4]\n",
      " [11]]\n",
      "####################\n",
      "[[ 0.42111131]\n",
      " [ 0.90700897]]\n",
      "********************\n",
      "[[ 0.41561741]\n",
      " [ 0.90953954]]\n",
      "********************\n",
      "[[ 0.41599824]\n",
      " [ 0.90936542]]\n",
      "********************\n",
      "[[ 0.41597185]\n",
      " [ 0.90937749]]\n",
      "********************\n",
      "[[ 0.41597368]\n",
      " [ 0.90937665]]\n",
      "********************\n",
      "[[ 0.41597355]\n",
      " [ 0.90937671]]\n",
      "********************\n",
      "[[ 0.41597356]\n",
      " [ 0.90937671]]\n",
      "********************\n",
      "[[ 0.41597356]\n",
      " [ 0.90937671]]\n",
      "********************\n",
      "[[ 0.41597356]\n",
      " [ 0.90937671]]\n",
      "********************\n",
      "[[ 0.41597356]\n",
      " [ 0.90937671]]\n",
      "********************\n"
     ]
    }
   ],
   "source": [
    "import numpy as np\n",
    "\n",
    "A = np.mat('1 2; 3 4')\n",
    "v = np.mat('4; 11')\n",
    "print v\n",
    "print \"#\"*20\n",
    "for i in range(10):\n",
    "    z = A*v\n",
    "    z = z/np.linalg.norm(z)#denominator sqrt(a^2+ b^2)\n",
    "    v = z\n",
    "    print z\n",
    "    print \"*\"*20"
   ]
  },
  {
   "cell_type": "markdown",
   "metadata": {},
   "source": [
    "* Inference : No matter where we start from(v), A converges to a constant vector"
   ]
  }
 ],
 "metadata": {
  "kernelspec": {
   "display_name": "Python 2",
   "language": "python",
   "name": "python2"
  },
  "language_info": {
   "codemirror_mode": {
    "name": "ipython",
    "version": 2
   },
   "file_extension": ".py",
   "mimetype": "text/x-python",
   "name": "python",
   "nbconvert_exporter": "python",
   "pygments_lexer": "ipython2",
   "version": "2.7.13"
  }
 },
 "nbformat": 4,
 "nbformat_minor": 2
}
